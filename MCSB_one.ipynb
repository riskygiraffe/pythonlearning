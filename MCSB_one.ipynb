{
  "nbformat": 4,
  "nbformat_minor": 0,
  "metadata": {
    "colab": {
      "name": "MCSB_one.ipynb",
      "provenance": [],
      "collapsed_sections": [],
      "authorship_tag": "ABX9TyM3kF+EJeYL1lofc5zGbVBA",
      "include_colab_link": true
    },
    "kernelspec": {
      "name": "python3",
      "display_name": "Python 3"
    },
    "language_info": {
      "name": "python"
    }
  },
  "cells": [
    {
      "cell_type": "markdown",
      "metadata": {
        "id": "view-in-github",
        "colab_type": "text"
      },
      "source": [
        "<a href=\"https://colab.research.google.com/github/riskygiraffe/pythonlearning/blob/main/MCSB_one.ipynb\" target=\"_parent\"><img src=\"https://colab.research.google.com/assets/colab-badge.svg\" alt=\"Open In Colab\"/></a>"
      ]
    },
    {
      "cell_type": "markdown",
      "source": [
        "Text:"
      ],
      "metadata": {
        "id": "0ImOfkljvpXx"
      }
    },
    {
      "cell_type": "code",
      "execution_count": null,
      "metadata": {
        "colab": {
          "base_uri": "https://localhost:8080/"
        },
        "id": "ptHyCRFDvZlH",
        "outputId": "8d40277b-f075-4a39-f97a-a6daa98d9332"
      },
      "outputs": [
        {
          "output_type": "stream",
          "name": "stdout",
          "text": [
            "{\"id\":\"328c4829-106e-4064-b46a-bab1874d2376\",\"text\":\"A dime has 118 ridges around the edge.\",\"source\":\"djtech.net\",\"source_url\":\"http:\\/\\/www.djtech.net\\/humor\\/useless_facts.htm\",\"language\":\"en\",\"permalink\":\"https:\\/\\/uselessfacts.jsph.pl\\/328c4829-106e-4064-b46a-bab1874d2376\"}\n"
          ]
        }
      ],
      "source": [
        "import requests\n",
        "\n",
        "response = requests.get('https://uselessfacts.jsph.pl/random.json?language=en')\n",
        "\n",
        "print(response.text)"
      ]
    },
    {
      "cell_type": "code",
      "source": [
        "query_parameters={\n",
        "    'language':'en'\n",
        "}\n",
        "\n",
        "reponse = requests.get('https://uselessfacts.jsph.pl/random.json',params=query_parameters).json().get('text')\n",
        "\n",
        "print(reponse)"
      ],
      "metadata": {
        "colab": {
          "base_uri": "https://localhost:8080/"
        },
        "id": "ZGRsj-LDxLlT",
        "outputId": "d587f97b-6316-4b47-ed75-e3163bd42eee"
      },
      "execution_count": null,
      "outputs": [
        {
          "output_type": "stream",
          "name": "stdout",
          "text": [
            "The electric chair was invented by a dentist.\n"
          ]
        }
      ]
    },
    {
      "cell_type": "code",
      "source": [
        ""
      ],
      "metadata": {
        "id": "RaQUL7je6r7r"
      },
      "execution_count": null,
      "outputs": []
    },
    {
      "cell_type": "markdown",
      "source": [
        "# Data Structures\n",
        "Basic structures include\n",
        "\n",
        "*   **Lists**\n",
        "*   **Dictionaries**\n",
        "*   **Sets**\n",
        "\n"
      ],
      "metadata": {
        "id": "7BYS8yWh6wMY"
      }
    },
    {
      "cell_type": "code",
      "source": [
        "data = ['Ringo', 'TJ']\n",
        "print(data[1])\n",
        "\n",
        "data.append('Sammie')\n",
        "data.append(['hello'])\n",
        "\n",
        "print(data)"
      ],
      "metadata": {
        "colab": {
          "base_uri": "https://localhost:8080/"
        },
        "id": "V68VqWjK6G3R",
        "outputId": "1142f6b0-36b3-406e-89c7-695307937869"
      },
      "execution_count": null,
      "outputs": [
        {
          "output_type": "stream",
          "name": "stdout",
          "text": [
            "TJ\n",
            "['Ringo', 'TJ', 'Sammie', ['hello']]\n"
          ]
        }
      ]
    },
    {
      "cell_type": "markdown",
      "source": [
        "##Lists\n",
        "first number - starting position (inclusive)  \n",
        "second number - stopping position (exclusive)  \n",
        "third number - step  "
      ],
      "metadata": {
        "id": "FFOTz2W789b5"
      }
    },
    {
      "cell_type": "code",
      "source": [
        "data = ['TJ','Sammie','Ringo','Jamie']\n",
        "\n",
        "data[1:4:2]"
      ],
      "metadata": {
        "colab": {
          "base_uri": "https://localhost:8080/"
        },
        "id": "wq2SGVLU8bGf",
        "outputId": "06593970-dfd7-49e1-d8b2-b556bb67b146"
      },
      "execution_count": null,
      "outputs": [
        {
          "output_type": "execute_result",
          "data": {
            "text/plain": [
              "['Sammie', 'Jamie']"
            ]
          },
          "metadata": {},
          "execution_count": 126
        }
      ]
    },
    {
      "cell_type": "markdown",
      "source": [
        "##**Dictionaries and Sets**"
      ],
      "metadata": {
        "id": "waz0CPif9WX_"
      }
    },
    {
      "cell_type": "markdown",
      "source": [
        "Sets are like lists but do not have repeating data. "
      ],
      "metadata": {
        "id": "NpSfZ7ip9_OT"
      }
    },
    {
      "cell_type": "code",
      "source": [
        "data = {'TJ', 'Sammie', 'Sammie', 'Ringo', 'Jamie'}\n",
        "\n",
        "print(data)"
      ],
      "metadata": {
        "colab": {
          "base_uri": "https://localhost:8080/"
        },
        "id": "TpNr5cpG9pIv",
        "outputId": "124db6f8-c145-4690-a9ab-0b72837aaa96"
      },
      "execution_count": null,
      "outputs": [
        {
          "output_type": "stream",
          "name": "stdout",
          "text": [
            "{'Jamie', 'Ringo', 'Sammie', 'TJ'}\n"
          ]
        }
      ]
    },
    {
      "cell_type": "markdown",
      "source": [
        ""
      ],
      "metadata": {
        "id": "dWWeGn5FFn3J"
      }
    },
    {
      "cell_type": "markdown",
      "source": [
        "You can use .get to retrive a particular key-value pair (enter TJ, Sammie, Ringo or Jamie into the .get method to return their value)"
      ],
      "metadata": {
        "id": "_zeN9qkr-veA"
      }
    },
    {
      "cell_type": "code",
      "source": [
        "data_dictionary = {\n",
        "    'TJ': 'gray',\n",
        "    'Sammie': 'white',\n",
        "    'Ringo': 'brown, white, cream',\n",
        "    'Jamie': 'red'\n",
        "}\n",
        "\n",
        "print(data_dictionary.get('Ringo'))"
      ],
      "metadata": {
        "colab": {
          "base_uri": "https://localhost:8080/"
        },
        "id": "Gx5s-cg-9ffQ",
        "outputId": "2d891cb6-9254-49ca-b527-3191807439a9"
      },
      "execution_count": null,
      "outputs": [
        {
          "output_type": "stream",
          "name": "stdout",
          "text": [
            "brown, white, cream\n"
          ]
        }
      ]
    },
    {
      "cell_type": "markdown",
      "source": [
        "#Control Flow - Loops and Conditionals\n",
        "\n",
        "**Iteration** - one time through the loop  \n",
        "\n",
        "**Iterable**- anything that can be looped through.  \n",
        "  For example: a list, a range, a set"
      ],
      "metadata": {
        "id": "by9T8D4F_Jtx"
      }
    },
    {
      "cell_type": "code",
      "source": [
        "data = ['a', 'b', 'c', 'd', 'e']\n",
        "\n",
        "for i in range(10):\n",
        "  print(i, end=\" \")\n",
        "\n",
        "print(\" \")\n",
        "for letter in data:\n",
        "  print(letter, end=\" \")\n",
        "\n",
        "print(\" \")\n",
        "for i, letter in enumerate(data):\n",
        "    print(i,letter, end=\" \")"
      ],
      "metadata": {
        "colab": {
          "base_uri": "https://localhost:8080/"
        },
        "id": "-xWXPJOa_QP7",
        "outputId": "d494d670-a16f-47ff-c6a1-ef74e6ae8f6b"
      },
      "execution_count": null,
      "outputs": [
        {
          "output_type": "stream",
          "name": "stdout",
          "text": [
            "0 1 2 3 4 5 6 7 8 9  \n",
            "a b c d e  \n",
            "0 a 1 b 2 c 3 d 4 e "
          ]
        }
      ]
    },
    {
      "cell_type": "markdown",
      "source": [
        "##While Loops\n",
        "\n",
        "*i = 0* is the initialization of the loop  \n",
        "\n",
        "*while i < len(data)* is the condition for when the loop is to stop\n",
        "\n",
        "*i += 1* is the update during each iteration (same as i++)\n",
        "\n",
        "*print(data[i], end=\" \"*) is what is done between the beginning of the loop and the update of *i +=1*\n"
      ],
      "metadata": {
        "id": "KtBhtkifC4n4"
      }
    },
    {
      "cell_type": "code",
      "source": [
        "data = ['a', 'b', 'c', 'd', 'e']\n",
        "\n",
        "i = 0\n",
        "\n",
        "while i < len(data):\n",
        "  print(data[i], end=\" \")\n",
        "  i += 1\n",
        "\n",
        "while True:\n",
        "  x = input()\n",
        "  if x == \"stop\":\n",
        "    break\n",
        "  elif x == \"special\":\n",
        "    continue\n",
        "  else:\n",
        "    print(\"it wasn't stop or special\")\n",
        "  print(\"printing data...\")"
      ],
      "metadata": {
        "colab": {
          "base_uri": "https://localhost:8080/",
          "height": 554
        },
        "id": "jvUxoX6CCgaz",
        "outputId": "74674650-8e91-47c9-ef8c-07cd700a2a12"
      },
      "execution_count": null,
      "outputs": [
        {
          "output_type": "stream",
          "name": "stdout",
          "text": [
            "a b c d e "
          ]
        },
        {
          "output_type": "error",
          "ename": "KeyboardInterrupt",
          "evalue": "ignored",
          "traceback": [
            "\u001b[0;31m---------------------------------------------------------------------------\u001b[0m",
            "\u001b[0;31mKeyboardInterrupt\u001b[0m                         Traceback (most recent call last)",
            "\u001b[0;32m/usr/local/lib/python3.7/dist-packages/ipykernel/kernelbase.py\u001b[0m in \u001b[0;36m_input_request\u001b[0;34m(self, prompt, ident, parent, password)\u001b[0m\n\u001b[1;32m    728\u001b[0m             \u001b[0;32mtry\u001b[0m\u001b[0;34m:\u001b[0m\u001b[0;34m\u001b[0m\u001b[0;34m\u001b[0m\u001b[0m\n\u001b[0;32m--> 729\u001b[0;31m                 \u001b[0mident\u001b[0m\u001b[0;34m,\u001b[0m \u001b[0mreply\u001b[0m \u001b[0;34m=\u001b[0m \u001b[0mself\u001b[0m\u001b[0;34m.\u001b[0m\u001b[0msession\u001b[0m\u001b[0;34m.\u001b[0m\u001b[0mrecv\u001b[0m\u001b[0;34m(\u001b[0m\u001b[0mself\u001b[0m\u001b[0;34m.\u001b[0m\u001b[0mstdin_socket\u001b[0m\u001b[0;34m,\u001b[0m \u001b[0;36m0\u001b[0m\u001b[0;34m)\u001b[0m\u001b[0;34m\u001b[0m\u001b[0;34m\u001b[0m\u001b[0m\n\u001b[0m\u001b[1;32m    730\u001b[0m             \u001b[0;32mexcept\u001b[0m \u001b[0mException\u001b[0m\u001b[0;34m:\u001b[0m\u001b[0;34m\u001b[0m\u001b[0;34m\u001b[0m\u001b[0m\n",
            "\u001b[0;32m/usr/local/lib/python3.7/dist-packages/jupyter_client/session.py\u001b[0m in \u001b[0;36mrecv\u001b[0;34m(self, socket, mode, content, copy)\u001b[0m\n\u001b[1;32m    802\u001b[0m         \u001b[0;32mtry\u001b[0m\u001b[0;34m:\u001b[0m\u001b[0;34m\u001b[0m\u001b[0;34m\u001b[0m\u001b[0m\n\u001b[0;32m--> 803\u001b[0;31m             \u001b[0mmsg_list\u001b[0m \u001b[0;34m=\u001b[0m \u001b[0msocket\u001b[0m\u001b[0;34m.\u001b[0m\u001b[0mrecv_multipart\u001b[0m\u001b[0;34m(\u001b[0m\u001b[0mmode\u001b[0m\u001b[0;34m,\u001b[0m \u001b[0mcopy\u001b[0m\u001b[0;34m=\u001b[0m\u001b[0mcopy\u001b[0m\u001b[0;34m)\u001b[0m\u001b[0;34m\u001b[0m\u001b[0;34m\u001b[0m\u001b[0m\n\u001b[0m\u001b[1;32m    804\u001b[0m         \u001b[0;32mexcept\u001b[0m \u001b[0mzmq\u001b[0m\u001b[0;34m.\u001b[0m\u001b[0mZMQError\u001b[0m \u001b[0;32mas\u001b[0m \u001b[0me\u001b[0m\u001b[0;34m:\u001b[0m\u001b[0;34m\u001b[0m\u001b[0;34m\u001b[0m\u001b[0m\n",
            "\u001b[0;32m/usr/local/lib/python3.7/dist-packages/zmq/sugar/socket.py\u001b[0m in \u001b[0;36mrecv_multipart\u001b[0;34m(self, flags, copy, track)\u001b[0m\n\u001b[1;32m    723\u001b[0m         \"\"\"\n\u001b[0;32m--> 724\u001b[0;31m         \u001b[0mparts\u001b[0m \u001b[0;34m=\u001b[0m \u001b[0;34m[\u001b[0m\u001b[0mself\u001b[0m\u001b[0;34m.\u001b[0m\u001b[0mrecv\u001b[0m\u001b[0;34m(\u001b[0m\u001b[0mflags\u001b[0m\u001b[0;34m,\u001b[0m \u001b[0mcopy\u001b[0m\u001b[0;34m=\u001b[0m\u001b[0mcopy\u001b[0m\u001b[0;34m,\u001b[0m \u001b[0mtrack\u001b[0m\u001b[0;34m=\u001b[0m\u001b[0mtrack\u001b[0m\u001b[0;34m)\u001b[0m\u001b[0;34m]\u001b[0m\u001b[0;34m\u001b[0m\u001b[0;34m\u001b[0m\u001b[0m\n\u001b[0m\u001b[1;32m    725\u001b[0m         \u001b[0;31m# have first part already, only loop while more to receive\u001b[0m\u001b[0;34m\u001b[0m\u001b[0;34m\u001b[0m\u001b[0;34m\u001b[0m\u001b[0m\n",
            "\u001b[0;32mzmq/backend/cython/socket.pyx\u001b[0m in \u001b[0;36mzmq.backend.cython.socket.Socket.recv\u001b[0;34m()\u001b[0m\n",
            "\u001b[0;32mzmq/backend/cython/socket.pyx\u001b[0m in \u001b[0;36mzmq.backend.cython.socket.Socket.recv\u001b[0;34m()\u001b[0m\n",
            "\u001b[0;32mzmq/backend/cython/socket.pyx\u001b[0m in \u001b[0;36mzmq.backend.cython.socket._recv_copy\u001b[0;34m()\u001b[0m\n",
            "\u001b[0;32m/usr/local/lib/python3.7/dist-packages/zmq/backend/cython/checkrc.pxd\u001b[0m in \u001b[0;36mzmq.backend.cython.checkrc._check_rc\u001b[0;34m()\u001b[0m\n",
            "\u001b[0;31mKeyboardInterrupt\u001b[0m: ",
            "\nDuring handling of the above exception, another exception occurred:\n",
            "\u001b[0;31mKeyboardInterrupt\u001b[0m                         Traceback (most recent call last)",
            "\u001b[0;32m<ipython-input-130-6afe517783bc>\u001b[0m in \u001b[0;36m<module>\u001b[0;34m()\u001b[0m\n\u001b[1;32m      8\u001b[0m \u001b[0;34m\u001b[0m\u001b[0m\n\u001b[1;32m      9\u001b[0m \u001b[0;32mwhile\u001b[0m \u001b[0;32mTrue\u001b[0m\u001b[0;34m:\u001b[0m\u001b[0;34m\u001b[0m\u001b[0;34m\u001b[0m\u001b[0m\n\u001b[0;32m---> 10\u001b[0;31m   \u001b[0mx\u001b[0m \u001b[0;34m=\u001b[0m \u001b[0minput\u001b[0m\u001b[0;34m(\u001b[0m\u001b[0;34m)\u001b[0m\u001b[0;34m\u001b[0m\u001b[0;34m\u001b[0m\u001b[0m\n\u001b[0m\u001b[1;32m     11\u001b[0m   \u001b[0;32mif\u001b[0m \u001b[0mx\u001b[0m \u001b[0;34m==\u001b[0m \u001b[0;34m\"stop\"\u001b[0m\u001b[0;34m:\u001b[0m\u001b[0;34m\u001b[0m\u001b[0;34m\u001b[0m\u001b[0m\n\u001b[1;32m     12\u001b[0m     \u001b[0;32mbreak\u001b[0m\u001b[0;34m\u001b[0m\u001b[0;34m\u001b[0m\u001b[0m\n",
            "\u001b[0;32m/usr/local/lib/python3.7/dist-packages/ipykernel/kernelbase.py\u001b[0m in \u001b[0;36mraw_input\u001b[0;34m(self, prompt)\u001b[0m\n\u001b[1;32m    702\u001b[0m             \u001b[0mself\u001b[0m\u001b[0;34m.\u001b[0m\u001b[0m_parent_ident\u001b[0m\u001b[0;34m,\u001b[0m\u001b[0;34m\u001b[0m\u001b[0;34m\u001b[0m\u001b[0m\n\u001b[1;32m    703\u001b[0m             \u001b[0mself\u001b[0m\u001b[0;34m.\u001b[0m\u001b[0m_parent_header\u001b[0m\u001b[0;34m,\u001b[0m\u001b[0;34m\u001b[0m\u001b[0;34m\u001b[0m\u001b[0m\n\u001b[0;32m--> 704\u001b[0;31m             \u001b[0mpassword\u001b[0m\u001b[0;34m=\u001b[0m\u001b[0;32mFalse\u001b[0m\u001b[0;34m,\u001b[0m\u001b[0;34m\u001b[0m\u001b[0;34m\u001b[0m\u001b[0m\n\u001b[0m\u001b[1;32m    705\u001b[0m         )\n\u001b[1;32m    706\u001b[0m \u001b[0;34m\u001b[0m\u001b[0m\n",
            "\u001b[0;32m/usr/local/lib/python3.7/dist-packages/ipykernel/kernelbase.py\u001b[0m in \u001b[0;36m_input_request\u001b[0;34m(self, prompt, ident, parent, password)\u001b[0m\n\u001b[1;32m    732\u001b[0m             \u001b[0;32mexcept\u001b[0m \u001b[0mKeyboardInterrupt\u001b[0m\u001b[0;34m:\u001b[0m\u001b[0;34m\u001b[0m\u001b[0;34m\u001b[0m\u001b[0m\n\u001b[1;32m    733\u001b[0m                 \u001b[0;31m# re-raise KeyboardInterrupt, to truncate traceback\u001b[0m\u001b[0;34m\u001b[0m\u001b[0;34m\u001b[0m\u001b[0;34m\u001b[0m\u001b[0m\n\u001b[0;32m--> 734\u001b[0;31m                 \u001b[0;32mraise\u001b[0m \u001b[0mKeyboardInterrupt\u001b[0m\u001b[0;34m\u001b[0m\u001b[0;34m\u001b[0m\u001b[0m\n\u001b[0m\u001b[1;32m    735\u001b[0m             \u001b[0;32melse\u001b[0m\u001b[0;34m:\u001b[0m\u001b[0;34m\u001b[0m\u001b[0;34m\u001b[0m\u001b[0m\n\u001b[1;32m    736\u001b[0m                 \u001b[0;32mbreak\u001b[0m\u001b[0;34m\u001b[0m\u001b[0;34m\u001b[0m\u001b[0m\n",
            "\u001b[0;31mKeyboardInterrupt\u001b[0m: "
          ]
        }
      ]
    },
    {
      "cell_type": "markdown",
      "source": [
        "##Iterating through Dictionaries"
      ],
      "metadata": {
        "id": "sKKHhICIFqym"
      }
    },
    {
      "cell_type": "code",
      "source": [
        "data_dictionary = {\n",
        "    'TJ': 'gray',\n",
        "    'Sammie': 'white',\n",
        "    'Ringo': 'brown, white, cream',\n",
        "    'Jamie': 'red'\n",
        "}\n",
        "\n",
        "for key, value in data_dictionary.items():\n",
        "  if value == 'white':\n",
        "      print('Sammie is here')\n",
        "      continue\n",
        "  print(key, value)"
      ],
      "metadata": {
        "id": "ikfVvCRUFuTF"
      },
      "execution_count": null,
      "outputs": []
    },
    {
      "cell_type": "markdown",
      "source": [
        "##Guessing game\n",
        "\n",
        "*Generate a random number* -- random module  \n",
        "*do while* -- Python doesn't have this built in  \n",
        "*do something once* -- possibly repeat it  \n",
        "*ask us for a number*. If we get it wrong, *ask again.*  \n",
        "logic for right/wrong: guessed == correct value"
      ],
      "metadata": {
        "id": "4_XbwxIqG_68"
      }
    },
    {
      "cell_type": "code",
      "source": [
        "from random import randint\n",
        "\n",
        "low = int(input('Enter the lowest number: '))\n",
        "high = int(input('Highest number: '))\n",
        "\n",
        "correct = randint(low, high)\n",
        "\n",
        "print(f'Guess a number between {low} and {high}')\n",
        "\n",
        "while True:\n",
        "  # do something\n",
        "  guess = int(input())\n",
        "  if guess < correct:\n",
        "    print(\"Guess higher\")\n",
        "  elif guess > correct:\n",
        "    print(\"Guess lower\")\n",
        "  #check to see if we should do it again\n",
        "  else:\n",
        "    print(\"You win!\")\n",
        "    break\n"
      ],
      "metadata": {
        "id": "_K6uYAQ9HpA8",
        "colab": {
          "base_uri": "https://localhost:8080/"
        },
        "outputId": "3affebc9-45b9-48a6-c620-e6c1eb0f0024"
      },
      "execution_count": 1,
      "outputs": [
        {
          "output_type": "stream",
          "name": "stdout",
          "text": [
            "Enter the lowest number: 0\n",
            "Highest number: 100\n",
            "Guess a number between 0 and 100\n",
            "50\n",
            "Guess higher\n",
            "75\n",
            "Guess lower\n",
            "63\n",
            "Guess higher\n",
            "69\n",
            "Guess higher\n",
            "72\n",
            "Guess lower\n",
            "71\n",
            "You win!\n"
          ]
        }
      ]
    }
  ]
}